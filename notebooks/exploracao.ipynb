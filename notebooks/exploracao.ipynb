{
 "cells": [
  {
   "cell_type": "markdown",
   "metadata": {},
   "source": [
    "# Exploração de biblioteca"
   ]
  },
  {
   "cell_type": "markdown",
   "metadata": {},
   "source": [
    "#### Testes de importação e API"
   ]
  },
  {
   "cell_type": "code",
   "execution_count": 18,
   "metadata": {},
   "outputs": [],
   "source": [
    "import requests"
   ]
  },
  {
   "cell_type": "code",
   "execution_count": 19,
   "metadata": {},
   "outputs": [],
   "source": [
    "apiGit = 'https://api.github.com/users/jailtonmonteiro'\n",
    "r = requests.get(apiGit)"
   ]
  },
  {
   "cell_type": "code",
   "execution_count": 20,
   "metadata": {},
   "outputs": [
    {
     "data": {
      "text/plain": [
       "{'login': 'jailtonmonteiro',\n",
       " 'id': 55102733,\n",
       " 'node_id': 'MDQ6VXNlcjU1MTAyNzMz',\n",
       " 'avatar_url': 'https://avatars.githubusercontent.com/u/55102733?v=4',\n",
       " 'gravatar_id': '',\n",
       " 'url': 'https://api.github.com/users/jailtonmonteiro',\n",
       " 'html_url': 'https://github.com/jailtonmonteiro',\n",
       " 'followers_url': 'https://api.github.com/users/jailtonmonteiro/followers',\n",
       " 'following_url': 'https://api.github.com/users/jailtonmonteiro/following{/other_user}',\n",
       " 'gists_url': 'https://api.github.com/users/jailtonmonteiro/gists{/gist_id}',\n",
       " 'starred_url': 'https://api.github.com/users/jailtonmonteiro/starred{/owner}{/repo}',\n",
       " 'subscriptions_url': 'https://api.github.com/users/jailtonmonteiro/subscriptions',\n",
       " 'organizations_url': 'https://api.github.com/users/jailtonmonteiro/orgs',\n",
       " 'repos_url': 'https://api.github.com/users/jailtonmonteiro/repos',\n",
       " 'events_url': 'https://api.github.com/users/jailtonmonteiro/events{/privacy}',\n",
       " 'received_events_url': 'https://api.github.com/users/jailtonmonteiro/received_events',\n",
       " 'type': 'User',\n",
       " 'user_view_type': 'public',\n",
       " 'site_admin': False,\n",
       " 'name': 'Jailton Monteiro',\n",
       " 'company': None,\n",
       " 'blog': '',\n",
       " 'location': 'Vitória, ES',\n",
       " 'email': None,\n",
       " 'hireable': True,\n",
       " 'bio': 'Estudante de Análise e Desenvolvimento de Sistemas na Universidade Vila Velha.',\n",
       " 'twitter_username': None,\n",
       " 'public_repos': 12,\n",
       " 'public_gists': 0,\n",
       " 'followers': 1,\n",
       " 'following': 0,\n",
       " 'created_at': '2019-09-09T16:45:29Z',\n",
       " 'updated_at': '2025-02-25T03:07:01Z'}"
      ]
     },
     "execution_count": 20,
     "metadata": {},
     "output_type": "execute_result"
    }
   ],
   "source": [
    "r.json()"
   ]
  },
  {
   "cell_type": "code",
   "execution_count": 21,
   "metadata": {},
   "outputs": [
    {
     "name": "stdout",
     "output_type": "stream",
     "text": [
      "Nome: Jailton Monteiro\n",
      "Email: None\n",
      "Login: jailtonmonteiro\n",
      "Data de criação: 2019-09-09T16:45:29Z\n"
     ]
    }
   ],
   "source": [
    "print(f'Nome: {r.json()[\"name\"]}')\n",
    "print(f'Email: {r.json()[\"email\"]}')\n",
    "print(f'Login: {r.json()[\"login\"]}')\n",
    "print(f'Data de criação: {r.json()[\"created_at\"]}')"
   ]
  }
 ],
 "metadata": {
  "kernelspec": {
   "display_name": "venv",
   "language": "python",
   "name": "python3"
  },
  "language_info": {
   "codemirror_mode": {
    "name": "ipython",
    "version": 3
   },
   "file_extension": ".py",
   "mimetype": "text/x-python",
   "name": "python",
   "nbconvert_exporter": "python",
   "pygments_lexer": "ipython3",
   "version": "3.10.12"
  }
 },
 "nbformat": 4,
 "nbformat_minor": 2
}
